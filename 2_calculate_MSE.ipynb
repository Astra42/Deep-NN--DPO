{
  "nbformat": 4,
  "nbformat_minor": 0,
  "metadata": {
    "colab": {
      "provenance": [],
      "authorship_tag": "ABX9TyMkyifsrU1wCdHdV0TTHJnL",
      "include_colab_link": true
    },
    "kernelspec": {
      "name": "python3",
      "display_name": "Python 3"
    },
    "language_info": {
      "name": "python"
    }
  },
  "cells": [
    {
      "cell_type": "markdown",
      "metadata": {
        "id": "view-in-github",
        "colab_type": "text"
      },
      "source": [
        "<a href=\"https://colab.research.google.com/github/Astra42/Deep-NN--DPO/blob/main/2_calculate_MSE.ipynb\" target=\"_parent\"><img src=\"https://colab.research.google.com/assets/colab-badge.svg\" alt=\"Open In Colab\"/></a>"
      ]
    },
    {
      "cell_type": "code",
      "source": [
        "import numpy as np"
      ],
      "metadata": {
        "id": "oL23scvBsPIk"
      },
      "execution_count": 4,
      "outputs": []
    },
    {
      "cell_type": "code",
      "execution_count": 22,
      "metadata": {
        "id": "rzGHYpgYrKfV"
      },
      "outputs": [],
      "source": [
        "x = np.array([(1, 2, 3), (2, 3, 4), (3, 4, 5), (4, 5, 6), (5, 6, 7)])\n",
        "w = (0.01, 0.02, 0.03)"
      ]
    },
    {
      "cell_type": "code",
      "source": [
        "predicted = [np.tanh(np.sum(xi*w)) for xi in x]\n",
        "actual = [0.1, 0.2, 0.2, 0.3, 0.3]\n",
        "\n",
        "predicted"
      ],
      "metadata": {
        "colab": {
          "base_uri": "https://localhost:8080/"
        },
        "id": "NEXy4qyjrtSl",
        "outputId": "980f7835-b18b-43f2-d36f-abd6c24f2f1a"
      },
      "execution_count": 25,
      "outputs": [
        {
          "output_type": "execute_result",
          "data": {
            "text/plain": [
              "[0.13909244787845804,\n",
              " 0.197375320224904,\n",
              " 0.25429553262639115,\n",
              " 0.30950692121263845,\n",
              " 0.3627074675780511]"
            ]
          },
          "metadata": {},
          "execution_count": 25
        }
      ]
    },
    {
      "cell_type": "code",
      "source": [
        "E = np.square((np.array(actual) - np.array(predicted))).mean()\n",
        "E"
      ],
      "metadata": {
        "colab": {
          "base_uri": "https://localhost:8080/"
        },
        "id": "7R5iADJKrthl",
        "outputId": "8dc24a6b-d7c9-4ee0-f7c2-4bb88df480a9"
      },
      "execution_count": 26,
      "outputs": [
        {
          "output_type": "execute_result",
          "data": {
            "text/plain": [
              "0.0017011442658461814"
            ]
          },
          "metadata": {},
          "execution_count": 26
        }
      ]
    }
  ]
}