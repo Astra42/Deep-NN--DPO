{
  "metadata": {
    "kernelspec": {
      "language": "python",
      "display_name": "Python 3",
      "name": "python3"
    },
    "language_info": {
      "name": "python",
      "version": "3.7.6",
      "mimetype": "text/x-python",
      "codemirror_mode": {
        "name": "ipython",
        "version": 3
      },
      "pygments_lexer": "ipython3",
      "nbconvert_exporter": "python",
      "file_extension": ".py"
    },
    "colab": {
      "provenance": [],
      "include_colab_link": true
    }
  },
  "nbformat_minor": 0,
  "nbformat": 4,
  "cells": [
    {
      "cell_type": "markdown",
      "metadata": {
        "id": "view-in-github",
        "colab_type": "text"
      },
      "source": [
        "<a href=\"https://colab.research.google.com/github/Astra42/Deep-NN--DPO/blob/main/1_baseline_1_5.ipynb\" target=\"_parent\"><img src=\"https://colab.research.google.com/assets/colab-badge.svg\" alt=\"Open In Colab\"/></a>"
      ]
    },
    {
      "cell_type": "markdown",
      "source": [
        "# Распознавание предметов одежды из набора MNIST"
      ],
      "metadata": {
        "id": "TUxDbrwkr_lT"
      }
    },
    {
      "cell_type": "markdown",
      "source": [
        "Импортируем необходимые библиотеки"
      ],
      "metadata": {
        "id": "EUDIZbmSr_lW"
      }
    },
    {
      "cell_type": "code",
      "source": [
        "! pip install kaggle\n",
        "! mkdir ~/.kaggle\n",
        "! cp kaggle.json ~/.kaggle/\n",
        "! chmod 600 ~/.kaggle/kaggle.json\n",
        "\n",
        "! kaggle competitions download nnfashinmnist\n",
        "! unzip nnfashinmnist"
      ],
      "metadata": {
        "colab": {
          "base_uri": "https://localhost:8080/"
        },
        "id": "VpUqeGyovXcL",
        "outputId": "59bacf93-33b8-42db-feb2-a1beec553931"
      },
      "execution_count": null,
      "outputs": [
        {
          "output_type": "stream",
          "name": "stdout",
          "text": [
            "Looking in indexes: https://pypi.org/simple, https://us-python.pkg.dev/colab-wheels/public/simple/\n",
            "Requirement already satisfied: kaggle in /usr/local/lib/python3.7/dist-packages (1.5.12)\n",
            "Requirement already satisfied: certifi in /usr/local/lib/python3.7/dist-packages (from kaggle) (2022.9.24)\n",
            "Requirement already satisfied: urllib3 in /usr/local/lib/python3.7/dist-packages (from kaggle) (1.24.3)\n",
            "Requirement already satisfied: python-dateutil in /usr/local/lib/python3.7/dist-packages (from kaggle) (2.8.2)\n",
            "Requirement already satisfied: requests in /usr/local/lib/python3.7/dist-packages (from kaggle) (2.23.0)\n",
            "Requirement already satisfied: six>=1.10 in /usr/local/lib/python3.7/dist-packages (from kaggle) (1.15.0)\n",
            "Requirement already satisfied: tqdm in /usr/local/lib/python3.7/dist-packages (from kaggle) (4.64.1)\n",
            "Requirement already satisfied: python-slugify in /usr/local/lib/python3.7/dist-packages (from kaggle) (6.1.2)\n",
            "Requirement already satisfied: text-unidecode>=1.3 in /usr/local/lib/python3.7/dist-packages (from python-slugify->kaggle) (1.3)\n",
            "Requirement already satisfied: idna<3,>=2.5 in /usr/local/lib/python3.7/dist-packages (from requests->kaggle) (2.10)\n",
            "Requirement already satisfied: chardet<4,>=3.0.2 in /usr/local/lib/python3.7/dist-packages (from requests->kaggle) (3.0.4)\n",
            "mkdir: cannot create directory ‘/root/.kaggle’: File exists\n",
            "nnfashinmnist.zip: Skipping, found more recently modified local copy (use --force to force download)\n",
            "Archive:  nnfashinmnist.zip\n",
            "  inflating: sample_submission.csv   \n",
            "  inflating: test.csv                \n",
            "  inflating: train.csv               \n"
          ]
        }
      ]
    },
    {
      "cell_type": "code",
      "source": [
        "\"\"\" объект последовательной модели нейронной сети \"\"\"\n",
        "from tensorflow.keras.models import Sequential\n",
        "\"\"\" полносвязный слой нейронной сети \"\"\"\n",
        "from tensorflow.keras.layers import Dense\n",
        "\"\"\" функции для получения обратной связи во время обучения нейронной сети\"\"\"\n",
        "from tensorflow.keras.callbacks import EarlyStopping, ModelCheckpoint\n",
        "\"\"\" вспомогательный модуль Keras для предварительной обработки данных \"\"\"\n",
        "from tensorflow.keras import utils\n",
        "\"\"\" библиотекf для работы с матрицами (многомерными тензорами) и линейной алгеброй \"\"\"\n",
        "import numpy as np\n",
        "\"\"\" библиотека для считывания и записи файлов в формате \".csv\" и других табличных форматах,\n",
        "    а также для их быстрой и удобной обработки \"\"\"\n",
        "import pandas as pd\n",
        "\"\"\" библиотека для работы с операционной системой \"\"\"\n",
        "import os \n",
        "\n",
        "\"\"\"Зафиксируем генератор случайных чисел. Его не менять!!!\"\"\"\n",
        "from numpy.random import seed\n",
        "seed(2020)\n",
        "from tensorflow.random import set_seed\n",
        "set_seed(2020)\n",
        "\"\"\" библиотека для визуализации данных \"\"\"\n",
        "import matplotlib.pyplot as plt\n",
        "%matplotlib inline \n",
        "\"\"\" посмотрим, какие файлы храняться в директории \"\"\"\n",
        "for dirname, _, filenames in os.walk('/kaggle/input/'):\n",
        "    for filename in filenames:\n",
        "        print(os.path.join(dirname, filename))"
      ],
      "metadata": {
        "_uuid": "8f2839f25d086af736a60e9eeb907d3b93b6e0e5",
        "_cell_guid": "b1076dfc-b9ad-4769-8c92-a6c4dae69d19",
        "execution": {
          "iopub.status.busy": "2022-11-08T14:05:09.263569Z",
          "iopub.execute_input": "2022-11-08T14:05:09.264271Z",
          "iopub.status.idle": "2022-11-08T14:05:16.700909Z",
          "shell.execute_reply.started": "2022-11-08T14:05:09.264211Z",
          "shell.execute_reply": "2022-11-08T14:05:16.699109Z"
        },
        "trusted": true,
        "id": "MogqLbm1r_lX"
      },
      "execution_count": null,
      "outputs": []
    },
    {
      "cell_type": "markdown",
      "source": [
        "Загружаем наборы данных для обучения и тестирования"
      ],
      "metadata": {
        "id": "LDXRSuvbr_lZ"
      }
    },
    {
      "cell_type": "code",
      "source": [
        "\n",
        "\"\"\"функция \"read_csv\" презназначена для считывания файлов в формате \".csv\"\n",
        "filepath_or_buffer - путь к файлу,\n",
        "index_col - необязательный параметр, который указывает какую колонку использовать, как индекс.\n",
        "Если параметр не указан, что pandas создаст столбец с индексами самостоятельно\n",
        "Подробнее о возможностях функции https://pandas.pydata.org/pandas-docs/stable/reference/api/pandas.read_csv.html\"\"\"\n",
        "train_df = pd.read_csv(filepath_or_buffer='train.csv', index_col='id')\n",
        "test_df = pd.read_csv(filepath_or_buffer='test.csv', index_col='id')\n",
        "sample_submission = pd.read_csv(filepath_or_buffer='sample_submission.csv', index_col='id')"
      ],
      "metadata": {
        "execution": {
          "iopub.status.busy": "2022-11-08T14:05:16.703022Z",
          "iopub.execute_input": "2022-11-08T14:05:16.703351Z",
          "iopub.status.idle": "2022-11-08T14:05:25.739613Z",
          "shell.execute_reply.started": "2022-11-08T14:05:16.703320Z",
          "shell.execute_reply": "2022-11-08T14:05:25.738185Z"
        },
        "trusted": true,
        "id": "DsXrG1N0r_lZ"
      },
      "execution_count": null,
      "outputs": []
    },
    {
      "cell_type": "code",
      "source": [
        "sample_submission.head(10)"
      ],
      "metadata": {
        "colab": {
          "base_uri": "https://localhost:8080/",
          "height": 394
        },
        "id": "3lmKSbbJzj80",
        "outputId": "76ac88f9-76b7-4366-b6b9-dc6a06ae3fc6"
      },
      "execution_count": null,
      "outputs": [
        {
          "output_type": "execute_result",
          "data": {
            "text/plain": [
              "    label\n",
              "id       \n",
              "0       5\n",
              "1       5\n",
              "2       5\n",
              "3       5\n",
              "4       5\n",
              "5       5\n",
              "6       5\n",
              "7       5\n",
              "8       5\n",
              "9       5"
            ],
            "text/html": [
              "\n",
              "  <div id=\"df-ab0c7e5b-0426-41f2-bfab-48b08dfd015f\">\n",
              "    <div class=\"colab-df-container\">\n",
              "      <div>\n",
              "<style scoped>\n",
              "    .dataframe tbody tr th:only-of-type {\n",
              "        vertical-align: middle;\n",
              "    }\n",
              "\n",
              "    .dataframe tbody tr th {\n",
              "        vertical-align: top;\n",
              "    }\n",
              "\n",
              "    .dataframe thead th {\n",
              "        text-align: right;\n",
              "    }\n",
              "</style>\n",
              "<table border=\"1\" class=\"dataframe\">\n",
              "  <thead>\n",
              "    <tr style=\"text-align: right;\">\n",
              "      <th></th>\n",
              "      <th>label</th>\n",
              "    </tr>\n",
              "    <tr>\n",
              "      <th>id</th>\n",
              "      <th></th>\n",
              "    </tr>\n",
              "  </thead>\n",
              "  <tbody>\n",
              "    <tr>\n",
              "      <th>0</th>\n",
              "      <td>5</td>\n",
              "    </tr>\n",
              "    <tr>\n",
              "      <th>1</th>\n",
              "      <td>5</td>\n",
              "    </tr>\n",
              "    <tr>\n",
              "      <th>2</th>\n",
              "      <td>5</td>\n",
              "    </tr>\n",
              "    <tr>\n",
              "      <th>3</th>\n",
              "      <td>5</td>\n",
              "    </tr>\n",
              "    <tr>\n",
              "      <th>4</th>\n",
              "      <td>5</td>\n",
              "    </tr>\n",
              "    <tr>\n",
              "      <th>5</th>\n",
              "      <td>5</td>\n",
              "    </tr>\n",
              "    <tr>\n",
              "      <th>6</th>\n",
              "      <td>5</td>\n",
              "    </tr>\n",
              "    <tr>\n",
              "      <th>7</th>\n",
              "      <td>5</td>\n",
              "    </tr>\n",
              "    <tr>\n",
              "      <th>8</th>\n",
              "      <td>5</td>\n",
              "    </tr>\n",
              "    <tr>\n",
              "      <th>9</th>\n",
              "      <td>5</td>\n",
              "    </tr>\n",
              "  </tbody>\n",
              "</table>\n",
              "</div>\n",
              "      <button class=\"colab-df-convert\" onclick=\"convertToInteractive('df-ab0c7e5b-0426-41f2-bfab-48b08dfd015f')\"\n",
              "              title=\"Convert this dataframe to an interactive table.\"\n",
              "              style=\"display:none;\">\n",
              "        \n",
              "  <svg xmlns=\"http://www.w3.org/2000/svg\" height=\"24px\"viewBox=\"0 0 24 24\"\n",
              "       width=\"24px\">\n",
              "    <path d=\"M0 0h24v24H0V0z\" fill=\"none\"/>\n",
              "    <path d=\"M18.56 5.44l.94 2.06.94-2.06 2.06-.94-2.06-.94-.94-2.06-.94 2.06-2.06.94zm-11 1L8.5 8.5l.94-2.06 2.06-.94-2.06-.94L8.5 2.5l-.94 2.06-2.06.94zm10 10l.94 2.06.94-2.06 2.06-.94-2.06-.94-.94-2.06-.94 2.06-2.06.94z\"/><path d=\"M17.41 7.96l-1.37-1.37c-.4-.4-.92-.59-1.43-.59-.52 0-1.04.2-1.43.59L10.3 9.45l-7.72 7.72c-.78.78-.78 2.05 0 2.83L4 21.41c.39.39.9.59 1.41.59.51 0 1.02-.2 1.41-.59l7.78-7.78 2.81-2.81c.8-.78.8-2.07 0-2.86zM5.41 20L4 18.59l7.72-7.72 1.47 1.35L5.41 20z\"/>\n",
              "  </svg>\n",
              "      </button>\n",
              "      \n",
              "  <style>\n",
              "    .colab-df-container {\n",
              "      display:flex;\n",
              "      flex-wrap:wrap;\n",
              "      gap: 12px;\n",
              "    }\n",
              "\n",
              "    .colab-df-convert {\n",
              "      background-color: #E8F0FE;\n",
              "      border: none;\n",
              "      border-radius: 50%;\n",
              "      cursor: pointer;\n",
              "      display: none;\n",
              "      fill: #1967D2;\n",
              "      height: 32px;\n",
              "      padding: 0 0 0 0;\n",
              "      width: 32px;\n",
              "    }\n",
              "\n",
              "    .colab-df-convert:hover {\n",
              "      background-color: #E2EBFA;\n",
              "      box-shadow: 0px 1px 2px rgba(60, 64, 67, 0.3), 0px 1px 3px 1px rgba(60, 64, 67, 0.15);\n",
              "      fill: #174EA6;\n",
              "    }\n",
              "\n",
              "    [theme=dark] .colab-df-convert {\n",
              "      background-color: #3B4455;\n",
              "      fill: #D2E3FC;\n",
              "    }\n",
              "\n",
              "    [theme=dark] .colab-df-convert:hover {\n",
              "      background-color: #434B5C;\n",
              "      box-shadow: 0px 1px 3px 1px rgba(0, 0, 0, 0.15);\n",
              "      filter: drop-shadow(0px 1px 2px rgba(0, 0, 0, 0.3));\n",
              "      fill: #FFFFFF;\n",
              "    }\n",
              "  </style>\n",
              "\n",
              "      <script>\n",
              "        const buttonEl =\n",
              "          document.querySelector('#df-ab0c7e5b-0426-41f2-bfab-48b08dfd015f button.colab-df-convert');\n",
              "        buttonEl.style.display =\n",
              "          google.colab.kernel.accessAllowed ? 'block' : 'none';\n",
              "\n",
              "        async function convertToInteractive(key) {\n",
              "          const element = document.querySelector('#df-ab0c7e5b-0426-41f2-bfab-48b08dfd015f');\n",
              "          const dataTable =\n",
              "            await google.colab.kernel.invokeFunction('convertToInteractive',\n",
              "                                                     [key], {});\n",
              "          if (!dataTable) return;\n",
              "\n",
              "          const docLinkHtml = 'Like what you see? Visit the ' +\n",
              "            '<a target=\"_blank\" href=https://colab.research.google.com/notebooks/data_table.ipynb>data table notebook</a>'\n",
              "            + ' to learn more about interactive tables.';\n",
              "          element.innerHTML = '';\n",
              "          dataTable['output_type'] = 'display_data';\n",
              "          await google.colab.output.renderOutput(dataTable, element);\n",
              "          const docLink = document.createElement('div');\n",
              "          docLink.innerHTML = docLinkHtml;\n",
              "          element.appendChild(docLink);\n",
              "        }\n",
              "      </script>\n",
              "    </div>\n",
              "  </div>\n",
              "  "
            ]
          },
          "metadata": {},
          "execution_count": 24
        }
      ]
    },
    {
      "cell_type": "markdown",
      "source": [
        "Извлекаем данные из таблиц pandas в числовые массивы (векторы и матрицы) numpy, которе можно подать на вход нейронной сети"
      ],
      "metadata": {
        "id": "A8PvLVPwr_la"
      }
    },
    {
      "cell_type": "code",
      "source": [
        "\"\"\"iloc позволяет считать необходимые строки и столбцы, обращаясь к ним не по именам, а по порядковой нумерации\n",
        "Подробнее про функцию iloc https://pandas.pydata.org/pandas-docs/stable/reference/api/pandas.DataFrame.iloc.html\n",
        "Запись train_df['label'], извлекает из всей таблицы столбец с названием 'label' \n",
        ".values - преобразовывает pandas DataFrame (объект таблицы) в numpy массив\"\"\"\n",
        "x_train, y_train = train_df.iloc[:,:-1].values, train_df['label'].values\n",
        "x_test = test_df.values"
      ],
      "metadata": {
        "execution": {
          "iopub.status.busy": "2022-11-08T14:05:25.741030Z",
          "iopub.execute_input": "2022-11-08T14:05:25.741473Z",
          "iopub.status.idle": "2022-11-08T14:05:25.751762Z",
          "shell.execute_reply.started": "2022-11-08T14:05:25.741429Z",
          "shell.execute_reply": "2022-11-08T14:05:25.750232Z"
        },
        "trusted": true,
        "id": "Ay8QHvfBr_la"
      },
      "execution_count": null,
      "outputs": []
    },
    {
      "cell_type": "markdown",
      "source": [
        "Проверяем совпадает ли количество признаков в тренировочном и тестовом наборах"
      ],
      "metadata": {
        "id": "byQx14G-r_lb"
      }
    },
    {
      "cell_type": "code",
      "source": [
        "assert x_train.shape[1] == x_test.shape[1], 'Количество признаков в тренировочном и тестовом наборах должно совпадать'"
      ],
      "metadata": {
        "execution": {
          "iopub.status.busy": "2022-11-08T14:05:25.753370Z",
          "iopub.execute_input": "2022-11-08T14:05:25.753788Z",
          "iopub.status.idle": "2022-11-08T14:05:25.766772Z",
          "shell.execute_reply.started": "2022-11-08T14:05:25.753745Z",
          "shell.execute_reply": "2022-11-08T14:05:25.765072Z"
        },
        "trusted": true,
        "id": "BF_REjpfr_lb"
      },
      "execution_count": null,
      "outputs": []
    },
    {
      "cell_type": "markdown",
      "source": [
        "Создаем соответствие номеров классов с их названиями"
      ],
      "metadata": {
        "id": "D9GZ2OJSr_lb"
      }
    },
    {
      "cell_type": "code",
      "source": [
        "classes = {0:'футболка', 1:'брюки', 2:'свитер', 3:'платье', 4:'пальто',\n",
        "           5:'туфли', 6:'рубашка', 7:'кроссовки', 8:'сумка', 9:'ботинки'}"
      ],
      "metadata": {
        "execution": {
          "iopub.status.busy": "2022-11-08T14:05:25.771322Z",
          "iopub.execute_input": "2022-11-08T14:05:25.771869Z",
          "iopub.status.idle": "2022-11-08T14:05:25.782675Z",
          "shell.execute_reply.started": "2022-11-08T14:05:25.771829Z",
          "shell.execute_reply": "2022-11-08T14:05:25.781741Z"
        },
        "trusted": true,
        "id": "NXCm-TKKr_lc"
      },
      "execution_count": null,
      "outputs": []
    },
    {
      "cell_type": "markdown",
      "source": [
        "Смотрим примеры изображений в наборе"
      ],
      "metadata": {
        "id": "iZePcGFUr_lc"
      }
    },
    {
      "cell_type": "code",
      "source": [
        "plt.figure(figsize=(10,10))\n",
        "for i in range(100,150):\n",
        "    plt.subplot(5,10,i-100+1)\n",
        "    plt.xticks([])\n",
        "    plt.yticks([])\n",
        "\n",
        "    plt.imshow(x_train[i].reshape((28,28)), cmap=plt.cm.binary)\n",
        "    plt.xlabel(classes[y_train[i]])"
      ],
      "metadata": {
        "execution": {
          "iopub.status.busy": "2022-11-08T14:05:25.786015Z",
          "iopub.execute_input": "2022-11-08T14:05:25.786494Z",
          "iopub.status.idle": "2022-11-08T14:05:27.859105Z",
          "shell.execute_reply.started": "2022-11-08T14:05:25.786447Z",
          "shell.execute_reply": "2022-11-08T14:05:27.857724Z"
        },
        "trusted": true,
        "colab": {
          "base_uri": "https://localhost:8080/",
          "height": 542
        },
        "id": "xcqYZp1Mr_lc",
        "outputId": "5ac941f8-3388-48f9-80ae-fa3fd804a83a"
      },
      "execution_count": null,
      "outputs": [
        {
          "output_type": "display_data",
          "data": {
            "text/plain": [
              "<Figure size 720x720 with 50 Axes>"
            ],
            "image/png": "[encoded data removed]"
          },
          "metadata": {}
        }
      ]
    },
    {
      "cell_type": "markdown",
      "source": [
        "Нормализация данных"
      ],
      "metadata": {
        "id": "PDstgOnGr_ld"
      }
    },
    {
      "cell_type": "code",
      "source": [
        "# Векторизованные операции\n",
        "# Применяются к каждому элементу массива отдельно\n",
        "x_train = x_train / 255.0\n",
        "# Все преобразования с тренировочным наборам повторяем и для тестового\n",
        "x_test = x_test / 255.0"
      ],
      "metadata": {
        "execution": {
          "iopub.status.busy": "2022-11-08T14:05:27.860537Z",
          "iopub.execute_input": "2022-11-08T14:05:27.860915Z",
          "iopub.status.idle": "2022-11-08T14:05:28.096458Z",
          "shell.execute_reply.started": "2022-11-08T14:05:27.860884Z",
          "shell.execute_reply": "2022-11-08T14:05:28.095003Z"
        },
        "trusted": true,
        "id": "o58s7QWwr_ld"
      },
      "execution_count": null,
      "outputs": []
    },
    {
      "cell_type": "markdown",
      "source": [
        "Работа с метками правильных ответов"
      ],
      "metadata": {
        "id": "VAG9tBjfr_ld"
      }
    },
    {
      "cell_type": "code",
      "source": [
        "print(y_train[100])"
      ],
      "metadata": {
        "execution": {
          "iopub.status.busy": "2022-11-08T14:05:28.098459Z",
          "iopub.execute_input": "2022-11-08T14:05:28.098959Z",
          "iopub.status.idle": "2022-11-08T14:05:28.107787Z",
          "shell.execute_reply.started": "2022-11-08T14:05:28.098915Z",
          "shell.execute_reply": "2022-11-08T14:05:28.106224Z"
        },
        "trusted": true,
        "colab": {
          "base_uri": "https://localhost:8080/"
        },
        "id": "NyysUgiqr_ld",
        "outputId": "d71c8166-0ba4-4a27-c023-4184911aa40d"
      },
      "execution_count": null,
      "outputs": [
        {
          "output_type": "stream",
          "name": "stdout",
          "text": [
            "7\n"
          ]
        }
      ]
    },
    {
      "cell_type": "markdown",
      "source": [
        "**Преобразуем метки в формат one hot encoding**"
      ],
      "metadata": {
        "id": "E7HQ0RCvr_ld"
      }
    },
    {
      "cell_type": "code",
      "source": [
        "y_train = utils.to_categorical(y_train)"
      ],
      "metadata": {
        "execution": {
          "iopub.status.busy": "2022-11-08T14:05:28.109785Z",
          "iopub.execute_input": "2022-11-08T14:05:28.110255Z",
          "iopub.status.idle": "2022-11-08T14:05:28.121570Z",
          "shell.execute_reply.started": "2022-11-08T14:05:28.110208Z",
          "shell.execute_reply": "2022-11-08T14:05:28.120339Z"
        },
        "trusted": true,
        "id": "K46QkxZVr_le"
      },
      "execution_count": null,
      "outputs": []
    },
    {
      "cell_type": "markdown",
      "source": [
        "Правильный ответ в формате one hot encoding"
      ],
      "metadata": {
        "id": "MBj40fzer_le"
      }
    },
    {
      "cell_type": "code",
      "source": [
        "print(y_train[100])"
      ],
      "metadata": {
        "execution": {
          "iopub.status.busy": "2022-11-08T14:05:28.123510Z",
          "iopub.execute_input": "2022-11-08T14:05:28.123950Z",
          "iopub.status.idle": "2022-11-08T14:05:28.137515Z",
          "shell.execute_reply.started": "2022-11-08T14:05:28.123905Z",
          "shell.execute_reply": "2022-11-08T14:05:28.135887Z"
        },
        "trusted": true,
        "colab": {
          "base_uri": "https://localhost:8080/"
        },
        "id": "erKrPCYLr_le",
        "outputId": "710246e4-52ad-45c6-f941-d57bb5d97525"
      },
      "execution_count": null,
      "outputs": [
        {
          "output_type": "stream",
          "name": "stdout",
          "text": [
            "[0. 0. 0. 0. 0. 0. 0. 1. 0. 0.]\n"
          ]
        }
      ]
    },
    {
      "cell_type": "markdown",
      "source": [
        "## Создаем нейронную сеть"
      ],
      "metadata": {
        "id": "t1ZdJIB2r_le"
      }
    },
    {
      "cell_type": "markdown",
      "source": [
        "**Описываем архитектуру нейронной сети**"
      ],
      "metadata": {
        "id": "nb2biVi-r_le"
      }
    },
    {
      "cell_type": "code",
      "source": [
        "# Создаем последовательную модель\n",
        "model = Sequential()\n",
        "# Входной полносвязный слой, 800 нейронов, 784 входа в каждый нейрон\n",
        "model.add(Dense(units=200, input_dim=784, activation=\"relu\"))\n",
        "model.add(Dense(units=200, activation=\"relu\"))\n",
        "model.add(Dense(units=200, activation=\"relu\"))\n",
        "# Выходной полносвязный слой, 10 нейронов (по количеству рукописных цифр)\n",
        "model.add(Dense(units=10, activation=\"softmax\"))"
      ],
      "metadata": {
        "execution": {
          "iopub.status.busy": "2022-11-08T14:05:28.139150Z",
          "iopub.execute_input": "2022-11-08T14:05:28.139482Z",
          "iopub.status.idle": "2022-11-08T14:05:28.273198Z",
          "shell.execute_reply.started": "2022-11-08T14:05:28.139449Z",
          "shell.execute_reply": "2022-11-08T14:05:28.271865Z"
        },
        "trusted": true,
        "id": "gHqdwGHOr_lf"
      },
      "execution_count": null,
      "outputs": []
    },
    {
      "cell_type": "markdown",
      "source": [
        "**Компилируем сеть**"
      ],
      "metadata": {
        "id": "0MMhLdDjr_lf"
      }
    },
    {
      "cell_type": "code",
      "source": [
        "model.compile(loss=\"categorical_crossentropy\", optimizer=\"adam\", metrics=[\"accuracy\"])\n",
        "print(model.summary())"
      ],
      "metadata": {
        "execution": {
          "iopub.status.busy": "2022-11-08T14:05:28.274933Z",
          "iopub.execute_input": "2022-11-08T14:05:28.275420Z",
          "iopub.status.idle": "2022-11-08T14:05:28.296087Z",
          "shell.execute_reply.started": "2022-11-08T14:05:28.275375Z",
          "shell.execute_reply": "2022-11-08T14:05:28.294840Z"
        },
        "trusted": true,
        "colab": {
          "base_uri": "https://localhost:8080/"
        },
        "id": "nR85-2r3r_lf",
        "outputId": "7d045b37-14a4-4bd7-9379-10f899c882a4"
      },
      "execution_count": null,
      "outputs": [
        {
          "output_type": "stream",
          "name": "stdout",
          "text": [
            "Model: \"sequential_4\"\n",
            "_________________________________________________________________\n",
            " Layer (type)                Output Shape              Param #   \n",
            "=================================================================\n",
            " dense_11 (Dense)            (None, 200)               157000    \n",
            "                                                                 \n",
            " dense_12 (Dense)            (None, 200)               40200     \n",
            "                                                                 \n",
            " dense_13 (Dense)            (None, 400)               80400     \n",
            "                                                                 \n",
            " dense_14 (Dense)            (None, 10)                4010      \n",
            "                                                                 \n",
            "=================================================================\n",
            "Total params: 281,610\n",
            "Trainable params: 281,610\n",
            "Non-trainable params: 0\n",
            "_________________________________________________________________\n",
            "None\n"
          ]
        }
      ]
    },
    {
      "cell_type": "markdown",
      "source": [
        "## Обучаем нейронную сеть[](http://)"
      ],
      "metadata": {
        "id": "_kdVKav8r_lf"
      }
    },
    {
      "cell_type": "markdown",
      "source": [
        "Обычный подход"
      ],
      "metadata": {
        "id": "6LtkRU4Yr_lf"
      }
    },
    {
      "cell_type": "code",
      "source": [
        "model.fit(x_train, y_train, \n",
        "          batch_size=150, \n",
        "          epochs=30,  \n",
        "          verbose=1)"
      ],
      "metadata": {
        "execution": {
          "iopub.status.busy": "2022-11-08T14:05:28.297609Z",
          "iopub.execute_input": "2022-11-08T14:05:28.298061Z",
          "iopub.status.idle": "2022-11-08T14:06:01.412210Z",
          "shell.execute_reply.started": "2022-11-08T14:05:28.298019Z",
          "shell.execute_reply": "2022-11-08T14:06:01.411060Z"
        },
        "trusted": true,
        "colab": {
          "base_uri": "https://localhost:8080/"
        },
        "id": "nrQzICrCr_lf",
        "outputId": "62191773-86eb-4fe8-f215-42a3907431ba"
      },
      "execution_count": null,
      "outputs": [
        {
          "output_type": "stream",
          "name": "stdout",
          "text": [
            "Epoch 1/30\n",
            "439/439 [==============================] - 5s 11ms/step - loss: 0.1072 - accuracy: 0.9574\n",
            "Epoch 2/30\n",
            "439/439 [==============================] - 5s 10ms/step - loss: 0.1009 - accuracy: 0.9605\n",
            "Epoch 3/30\n",
            "439/439 [==============================] - 4s 10ms/step - loss: 0.1000 - accuracy: 0.9612\n",
            "Epoch 4/30\n",
            "439/439 [==============================] - 5s 10ms/step - loss: 0.0944 - accuracy: 0.9630\n",
            "Epoch 5/30\n",
            "439/439 [==============================] - 5s 10ms/step - loss: 0.0956 - accuracy: 0.9625\n",
            "Epoch 6/30\n",
            "439/439 [==============================] - 4s 10ms/step - loss: 0.0866 - accuracy: 0.9659\n",
            "Epoch 7/30\n",
            "439/439 [==============================] - 5s 10ms/step - loss: 0.0867 - accuracy: 0.9659\n",
            "Epoch 8/30\n",
            "439/439 [==============================] - 4s 10ms/step - loss: 0.0831 - accuracy: 0.9677\n",
            "Epoch 9/30\n",
            "439/439 [==============================] - 5s 10ms/step - loss: 0.0812 - accuracy: 0.9686\n",
            "Epoch 10/30\n",
            "439/439 [==============================] - 5s 11ms/step - loss: 0.0791 - accuracy: 0.9685\n",
            "Epoch 11/30\n",
            "439/439 [==============================] - 5s 10ms/step - loss: 0.0803 - accuracy: 0.9693\n",
            "Epoch 12/30\n",
            "439/439 [==============================] - 5s 12ms/step - loss: 0.0713 - accuracy: 0.9719\n",
            "Epoch 13/30\n",
            "439/439 [==============================] - 5s 11ms/step - loss: 0.0721 - accuracy: 0.9721\n",
            "Epoch 14/30\n",
            "439/439 [==============================] - 5s 10ms/step - loss: 0.0714 - accuracy: 0.9716\n",
            "Epoch 15/30\n",
            "439/439 [==============================] - 5s 10ms/step - loss: 0.0675 - accuracy: 0.9741\n",
            "Epoch 16/30\n",
            "439/439 [==============================] - 5s 10ms/step - loss: 0.0677 - accuracy: 0.9739\n",
            "Epoch 17/30\n",
            "439/439 [==============================] - 5s 11ms/step - loss: 0.0693 - accuracy: 0.9733\n",
            "Epoch 18/30\n",
            "439/439 [==============================] - 5s 10ms/step - loss: 0.0623 - accuracy: 0.9764\n",
            "Epoch 19/30\n",
            "439/439 [==============================] - 5s 10ms/step - loss: 0.0599 - accuracy: 0.9769\n",
            "Epoch 20/30\n",
            "439/439 [==============================] - 5s 11ms/step - loss: 0.0605 - accuracy: 0.9764\n",
            "Epoch 21/30\n",
            "439/439 [==============================] - 5s 11ms/step - loss: 0.0589 - accuracy: 0.9772\n",
            "Epoch 22/30\n",
            "439/439 [==============================] - 5s 11ms/step - loss: 0.0563 - accuracy: 0.9785\n",
            "Epoch 23/30\n",
            "439/439 [==============================] - 5s 11ms/step - loss: 0.0563 - accuracy: 0.9779\n",
            "Epoch 24/30\n",
            "439/439 [==============================] - 5s 11ms/step - loss: 0.0600 - accuracy: 0.9773\n",
            "Epoch 25/30\n",
            "439/439 [==============================] - 5s 12ms/step - loss: 0.0557 - accuracy: 0.9784\n",
            "Epoch 26/30\n",
            "439/439 [==============================] - 5s 10ms/step - loss: 0.0535 - accuracy: 0.9803\n",
            "Epoch 27/30\n",
            "439/439 [==============================] - 5s 12ms/step - loss: 0.0500 - accuracy: 0.9813\n",
            "Epoch 28/30\n",
            "439/439 [==============================] - 5s 11ms/step - loss: 0.0473 - accuracy: 0.9820\n",
            "Epoch 29/30\n",
            "439/439 [==============================] - 5s 10ms/step - loss: 0.0512 - accuracy: 0.9809\n",
            "Epoch 30/30\n",
            "439/439 [==============================] - 5s 11ms/step - loss: 0.0486 - accuracy: 0.9819\n"
          ]
        },
        {
          "output_type": "execute_result",
          "data": {
            "text/plain": [
              "<keras.callbacks.History at 0x7fc7591e37d0>"
            ]
          },
          "metadata": {},
          "execution_count": 53
        }
      ]
    },
    {
      "cell_type": "markdown",
      "source": [
        "## Подход с применением обратной связи"
      ],
      "metadata": {
        "id": "Cha-5b_qr_lg"
      }
    },
    {
      "cell_type": "markdown",
      "source": [
        "В процессе обучения нейронной сети, мы можем следить за изменением ее показателей и как-то реагировать на эту обратную связь.\n",
        "Например, если мы видим, что нейронная сеть уже 5 эпох подряд не улучшает свой результат (loss не уменьшается или accuracy не растет), то возможно нет смысла учиться дальше и мы хотели бы остановить процесс обучения. Но нейронная сеть учиться столько эпох, сколько мы указали.\n",
        "### Чтобы избежать такого лишнего обучения, можно использовать метод **EarlyStopping** (ранний останов).\n",
        "* С помощью параметра **monitor** она следит за указанной величиной: loss или accuracy.\n",
        "* С помощью параметра **patience** мы указываем через сколько эпох обучения без улучшения мы хотим прекратить процесс обучения. Таким образом мы можем избежать траты лишних ресурсов и времени\n",
        "* С помощью параметра **restore_best_weights=True** можно сохранить лучшие веса модели, а не последние."
      ],
      "metadata": {
        "id": "0lJeamjWr_lg"
      }
    },
    {
      "cell_type": "markdown",
      "source": [
        "Может оказаться, что на более ранней эпохе у модели было лучшее качество, чем на более поздней эпохе. Но сейчас мы получаем модель с весами, обученными на последней эпохе.\n",
        "### Чтобы сохранить самую лучшую модель, можно использовать ModelCheckpoint\n",
        "* filepath - путь для сохранения лучшей модели\n",
        "* monitor - параметр, за которым мы будем следить: loss, accuracy\n",
        "* save_best_only=True - говорит о том, что мы хотим сохранить лишь лучшую модель"
      ],
      "metadata": {
        "id": "-PTs3vQBr_lg"
      }
    },
    {
      "cell_type": "code",
      "source": [
        "\"\"\"Если вы хотите применить подход с обратной связью,\n",
        "    то снимите комментарии со следующего кода.\n",
        "    Попробуйте менять параметры monitor и patience\"\"\"\n",
        "# # Создаем последовательную модель\n",
        "# model = Sequential()\n",
        "# # Входной полносвязный слой, 800 нейронов, 784 входа в каждый нейрон\n",
        "# model.add(Dense(units=800, input_dim=784, activation=\"relu\"))\n",
        "# # Выходной полносвязный слой, 10 нейронов (по количеству рукописных цифр)\n",
        "# model.add(Dense(units=10, activation=\"softmax\"))\n",
        "# # компилируем модель\n",
        "# model.compile(loss=\"categorical_crossentropy\", optimizer=\"SGD\", metrics=[\"accuracy\"])\n",
        "# print(model.summary())\n",
        "# # создаем лист с обратными связями\n",
        "# # в случае restore_best_weights=True, применять  ModelCheckpoint не нужно\n",
        "# callbacks_list = [EarlyStopping(monitor='loss', patience=5, restore_best_weights=True),\n",
        "#                   ModelCheckpoint(filepath='my_model.h5',\n",
        "#                                   monitor='loss',\n",
        "#                                   save_best_only=True),\n",
        "#                  ]\n",
        "# # добавляем лист с обратными связями в параметр callbacks\n",
        "# model.fit(x_train, y_train,\n",
        "#             batch_size=200,\n",
        "#             epochs=10,\n",
        "#             callbacks=callbacks_list,\n",
        "#             verbose=1)"
      ],
      "metadata": {
        "execution": {
          "iopub.status.busy": "2022-11-08T14:06:01.414173Z",
          "iopub.execute_input": "2022-11-08T14:06:01.415050Z",
          "iopub.status.idle": "2022-11-08T14:06:01.424806Z",
          "shell.execute_reply.started": "2022-11-08T14:06:01.415003Z",
          "shell.execute_reply": "2022-11-08T14:06:01.423443Z"
        },
        "trusted": true,
        "id": "nH6lSEmVr_lg",
        "outputId": "e8839f5e-b73e-48d1-ec51-57a8acfdd89a"
      },
      "execution_count": null,
      "outputs": [
        {
          "execution_count": 14,
          "output_type": "execute_result",
          "data": {
            "text/plain": "'Если вы хотите применить подход с обратной связью,\\n    то снимите комментарии со следующего кода.\\n    Попробуйте менять параметры monitor и patience'"
          },
          "metadata": {}
        }
      ]
    },
    {
      "cell_type": "markdown",
      "source": [
        "## Используем сеть для распознавания моделей одежды"
      ],
      "metadata": {
        "id": "5j1WByJyr_lg"
      }
    },
    {
      "cell_type": "markdown",
      "source": [
        "**Запускаем распознавание набора данных, на котором обучалась сеть**"
      ],
      "metadata": {
        "id": "7y63Q4rkr_lg"
      }
    },
    {
      "cell_type": "code",
      "source": [
        "predictions = model.predict(x_train)"
      ],
      "metadata": {
        "execution": {
          "iopub.status.busy": "2022-11-08T14:06:01.426568Z",
          "iopub.execute_input": "2022-11-08T14:06:01.427326Z",
          "iopub.status.idle": "2022-11-08T14:06:06.573138Z",
          "shell.execute_reply.started": "2022-11-08T14:06:01.427259Z",
          "shell.execute_reply": "2022-11-08T14:06:06.571367Z"
        },
        "trusted": true,
        "colab": {
          "base_uri": "https://localhost:8080/"
        },
        "id": "ryIFWDjsr_lh",
        "outputId": "9aba0ed3-5142-445c-9a57-c319bc1342f6"
      },
      "execution_count": null,
      "outputs": [
        {
          "output_type": "stream",
          "name": "stdout",
          "text": [
            "2057/2057 [==============================] - 6s 3ms/step\n"
          ]
        }
      ]
    },
    {
      "cell_type": "markdown",
      "source": [
        "**Проверяем качество распознавания**\n",
        "\n",
        "Просматриваем пример изображения"
      ],
      "metadata": {
        "id": "u11v8wg1r_lh"
      }
    },
    {
      "cell_type": "code",
      "source": [
        "# Меняйте значение n чтобы просмотреть результаты распознавания других изображений\n",
        "n = 2022\n",
        "plt.imshow(x_train[n].reshape(28, 28), cmap=plt.cm.binary)\n",
        "plt.show()"
      ],
      "metadata": {
        "execution": {
          "iopub.status.busy": "2022-11-08T14:06:06.575338Z",
          "iopub.execute_input": "2022-11-08T14:06:06.575718Z",
          "iopub.status.idle": "2022-11-08T14:06:06.729110Z",
          "shell.execute_reply.started": "2022-11-08T14:06:06.575684Z",
          "shell.execute_reply": "2022-11-08T14:06:06.727896Z"
        },
        "trusted": true,
        "colab": {
          "base_uri": "https://localhost:8080/",
          "height": 265
        },
        "id": "UCnH0KRyr_lh",
        "outputId": "85073c8c-cd70-4b5a-b0d6-1b2f958de604"
      },
      "execution_count": null,
      "outputs": [
        {
          "output_type": "display_data",
          "data": {
            "text/plain": [
              "<Figure size 432x288 with 1 Axes>"
            ],
            "image/png": "[encoded data removed]"
          },
          "metadata": {
            "needs_background": "light"
          }
        }
      ]
    },
    {
      "cell_type": "markdown",
      "source": [
        "Данные на выходе из сети в формате one-hot-encoding"
      ],
      "metadata": {
        "id": "xz13hB7ur_lh"
      }
    },
    {
      "cell_type": "code",
      "source": [
        "print(predictions[n])"
      ],
      "metadata": {
        "execution": {
          "iopub.status.busy": "2022-11-08T14:06:06.730608Z",
          "iopub.execute_input": "2022-11-08T14:06:06.730911Z",
          "iopub.status.idle": "2022-11-08T14:06:06.738409Z",
          "shell.execute_reply.started": "2022-11-08T14:06:06.730883Z",
          "shell.execute_reply": "2022-11-08T14:06:06.736683Z"
        },
        "trusted": true,
        "colab": {
          "base_uri": "https://localhost:8080/"
        },
        "id": "Fz2wTrKqr_lh",
        "outputId": "f6689267-234e-43cc-f56a-33138df5dc2b"
      },
      "execution_count": null,
      "outputs": [
        {
          "output_type": "stream",
          "name": "stdout",
          "text": [
            "[2.6371196e-32 9.9999994e-01 4.7150548e-33 9.4332961e-26 0.0000000e+00\n",
            " 2.5471129e-35 9.2728937e-32 1.5023975e-38 4.1626397e-26 7.9152547e-27]\n"
          ]
        }
      ]
    },
    {
      "cell_type": "markdown",
      "source": [
        "Определяем номер класса изображения, который предлагает сеть"
      ],
      "metadata": {
        "id": "kF1RJ4X0r_lh"
      }
    },
    {
      "cell_type": "code",
      "source": [
        "\"\"\"argmax - находит максимальный элемент массива и возвращает его номер в массиве\"\"\"\n",
        "np.argmax(predictions[n])"
      ],
      "metadata": {
        "execution": {
          "iopub.status.busy": "2022-11-08T14:06:06.739939Z",
          "iopub.execute_input": "2022-11-08T14:06:06.740263Z",
          "iopub.status.idle": "2022-11-08T14:06:06.753232Z",
          "shell.execute_reply.started": "2022-11-08T14:06:06.740226Z",
          "shell.execute_reply": "2022-11-08T14:06:06.752107Z"
        },
        "trusted": true,
        "colab": {
          "base_uri": "https://localhost:8080/"
        },
        "id": "81_6w7JCr_li",
        "outputId": "dd09d29e-47eb-433e-9962-6fef7bb37f62"
      },
      "execution_count": null,
      "outputs": [
        {
          "output_type": "execute_result",
          "data": {
            "text/plain": [
              "1"
            ]
          },
          "metadata": {},
          "execution_count": 61
        }
      ]
    },
    {
      "cell_type": "markdown",
      "source": [
        "Печатаем название класса"
      ],
      "metadata": {
        "id": "UYR8gxMAr_li"
      }
    },
    {
      "cell_type": "code",
      "source": [
        "\"\"\"Передаем в словарь classes номер максимального элемента предсказанного сетью\n",
        "Словарь возвращает название класса, который скрыт за этим номером\"\"\"\n",
        "classes[np.argmax(predictions[n])]"
      ],
      "metadata": {
        "execution": {
          "iopub.status.busy": "2022-11-08T14:06:06.754841Z",
          "iopub.execute_input": "2022-11-08T14:06:06.755253Z",
          "iopub.status.idle": "2022-11-08T14:06:06.777995Z",
          "shell.execute_reply.started": "2022-11-08T14:06:06.755213Z",
          "shell.execute_reply": "2022-11-08T14:06:06.776188Z"
        },
        "trusted": true,
        "colab": {
          "base_uri": "https://localhost:8080/",
          "height": 36
        },
        "id": "AI_v3qstr_li",
        "outputId": "311e080d-67ea-4fdb-8846-7077c9d9e437"
      },
      "execution_count": null,
      "outputs": [
        {
          "output_type": "execute_result",
          "data": {
            "text/plain": [
              "'брюки'"
            ],
            "application/vnd.google.colaboratory.intrinsic+json": {
              "type": "string"
            }
          },
          "metadata": {},
          "execution_count": 62
        }
      ]
    },
    {
      "cell_type": "markdown",
      "source": [
        "Печатаем номер класса правильного ответа"
      ],
      "metadata": {
        "id": "-rIK7KQVr_li"
      }
    },
    {
      "cell_type": "code",
      "source": [
        "np.argmax(y_train[n])"
      ],
      "metadata": {
        "execution": {
          "iopub.status.busy": "2022-11-08T14:06:06.779303Z",
          "iopub.execute_input": "2022-11-08T14:06:06.779592Z",
          "iopub.status.idle": "2022-11-08T14:06:06.792817Z",
          "shell.execute_reply.started": "2022-11-08T14:06:06.779564Z",
          "shell.execute_reply": "2022-11-08T14:06:06.791128Z"
        },
        "trusted": true,
        "colab": {
          "base_uri": "https://localhost:8080/"
        },
        "id": "HLYg7pEmr_li",
        "outputId": "7c74a0c1-732b-4f44-864c-754e7f8d6e09"
      },
      "execution_count": null,
      "outputs": [
        {
          "output_type": "execute_result",
          "data": {
            "text/plain": [
              "1"
            ]
          },
          "metadata": {},
          "execution_count": 63
        }
      ]
    },
    {
      "cell_type": "markdown",
      "source": [
        "Печатаем название класса правильного ответа"
      ],
      "metadata": {
        "id": "z1HsY4cOr_lj"
      }
    },
    {
      "cell_type": "code",
      "source": [
        "classes[np.argmax(y_train[n])]"
      ],
      "metadata": {
        "execution": {
          "iopub.status.busy": "2022-11-08T14:06:06.794244Z",
          "iopub.execute_input": "2022-11-08T14:06:06.794717Z",
          "iopub.status.idle": "2022-11-08T14:06:06.811659Z",
          "shell.execute_reply.started": "2022-11-08T14:06:06.794662Z",
          "shell.execute_reply": "2022-11-08T14:06:06.810418Z"
        },
        "trusted": true,
        "colab": {
          "base_uri": "https://localhost:8080/",
          "height": 36
        },
        "id": "Iext_vXEr_lj",
        "outputId": "90d1c966-48b0-47e2-f904-2970f8428bfa"
      },
      "execution_count": null,
      "outputs": [
        {
          "output_type": "execute_result",
          "data": {
            "text/plain": [
              "'брюки'"
            ],
            "application/vnd.google.colaboratory.intrinsic+json": {
              "type": "string"
            }
          },
          "metadata": {},
          "execution_count": 64
        }
      ]
    },
    {
      "cell_type": "markdown",
      "source": [
        "## Готовим данные для теста на liderboard"
      ],
      "metadata": {
        "id": "TIGMOgBCr_lj"
      }
    },
    {
      "cell_type": "markdown",
      "source": [
        "Распознаем тестовый набор данных"
      ],
      "metadata": {
        "id": "KQlbulZIr_lj"
      }
    },
    {
      "cell_type": "code",
      "source": [
        "\"\"\"делаем предсказания по всем тестовым данным\"\"\"\n",
        "predictions = model.predict(x_test)\n",
        "\"\"\"извлекаем номера предсказаний с максимальными вероятностями по всем объектам тестового набора\"\"\"\n",
        "predictions = np.argmax(predictions, axis=1)\n",
        "predictions"
      ],
      "metadata": {
        "execution": {
          "iopub.status.busy": "2022-11-08T14:06:06.813094Z",
          "iopub.execute_input": "2022-11-08T14:06:06.813597Z",
          "iopub.status.idle": "2022-11-08T14:06:07.521488Z",
          "shell.execute_reply.started": "2022-11-08T14:06:06.813551Z",
          "shell.execute_reply": "2022-11-08T14:06:07.520241Z"
        },
        "trusted": true,
        "colab": {
          "base_uri": "https://localhost:8080/"
        },
        "id": "9jjHE7v6r_lj",
        "outputId": "97ed236a-fa17-43f9-fb93-a73a9b5e3b3d"
      },
      "execution_count": null,
      "outputs": [
        {
          "output_type": "stream",
          "name": "stdout",
          "text": [
            "132/132 [==============================] - 0s 3ms/step\n"
          ]
        },
        {
          "output_type": "execute_result",
          "data": {
            "text/plain": [
              "array([0, 2, 7, ..., 6, 0, 5])"
            ]
          },
          "metadata": {},
          "execution_count": 65
        }
      ]
    },
    {
      "cell_type": "markdown",
      "source": [
        "Пишем результаты предсказаний в шаблон \"sample_submission\""
      ],
      "metadata": {
        "id": "c_-j1GnNr_lj"
      }
    },
    {
      "cell_type": "code",
      "source": [
        "\"\"\"используем файл с правильным шаблоном формата записи ответов и пишем в него наши предсказания\"\"\"\n",
        "sample_submission['label'] = predictions"
      ],
      "metadata": {
        "execution": {
          "iopub.status.busy": "2022-11-08T14:06:07.525553Z",
          "iopub.execute_input": "2022-11-08T14:06:07.525961Z",
          "iopub.status.idle": "2022-11-08T14:06:07.532182Z",
          "shell.execute_reply.started": "2022-11-08T14:06:07.525928Z",
          "shell.execute_reply": "2022-11-08T14:06:07.530751Z"
        },
        "trusted": true,
        "id": "3FdhNlxer_lj"
      },
      "execution_count": null,
      "outputs": []
    },
    {
      "cell_type": "markdown",
      "source": [
        "Записываем ответы для проверки на liderboard"
      ],
      "metadata": {
        "id": "3TtSye7Ar_lk"
      }
    },
    {
      "cell_type": "code",
      "source": [
        "\"\"\"to_csv - пишет табличные данные в файл '.csv' \"\"\"\n",
        "sample_submission.to_csv('sample_submission.csv')"
      ],
      "metadata": {
        "execution": {
          "iopub.status.busy": "2022-11-08T14:06:07.533636Z",
          "iopub.execute_input": "2022-11-08T14:06:07.533983Z",
          "iopub.status.idle": "2022-11-08T14:06:08.071532Z",
          "shell.execute_reply.started": "2022-11-08T14:06:07.533945Z",
          "shell.execute_reply": "2022-11-08T14:06:08.070028Z"
        },
        "trusted": true,
        "id": "n1YqyVwer_lk"
      },
      "execution_count": null,
      "outputs": []
    }
  ]
}